{
 "cells": [
  {
   "cell_type": "code",
   "execution_count": 1,
   "metadata": {},
   "outputs": [],
   "source": [
    "%matplotlib inline\n",
    "\n",
    "import math\n",
    "import matplotlib.pyplot as plt\n",
    "import numpy as np\n",
    "import pandas as pd\n",
    "import scipy.interpolate\n",
    "import scipy.ndimage\n",
    "import scipy.special\n",
    "\n",
    "from mpl_toolkits.axes_grid1 import make_axes_locatable\n",
    "from scipy.optimize import curve_fit"
   ]
  },
  {
   "cell_type": "code",
   "execution_count": 2,
   "metadata": {},
   "outputs": [],
   "source": [
    "# Load the user data\n",
    "luna_df = pd.read_csv('perceptual_data.csv')\n",
    "luna_df['nonuniformity'] = (100-luna_df['uniformity'])/(100+luna_df['uniformity'])\n",
    "luna_df['strongly_worse'] = (luna_df['convresp'] >= 2)\n",
    "luna_df['any_worse'] = (luna_df['convresp'] >= 1)"
   ]
  },
  {
   "cell_type": "code",
   "execution_count": 3,
   "metadata": {},
   "outputs": [],
   "source": [
    "# Calculate averages for the different conditions\n",
    "df = luna_df.copy()\n",
    "\n",
    "x = {}\n",
    "y = {}\n",
    "for crit in ['strongly_worse', 'any_worse']:\n",
    "    for where in ('nasal', 'temporal'):\n",
    "        for AR, luning in (('monoar', 'monolune'),\n",
    "                           ('binoar', 'binolune')):\n",
    "            df_subset = df.loc[(df['AR'] == AR) &\n",
    "                               (((df['luning'] == luning) & (df['where'] == where)) |\n",
    "                               ((df['luning'] == 'nolune') & (pd.isna(df['where']))))]\n",
    "\n",
    "            x[crit, where, AR], y[crit, where, AR] = [], []\n",
    "            for n_idx, n in enumerate(sorted(set(df_subset['nonuniformity']))):\n",
    "                dat = df_subset[df_subset['nonuniformity']==n][crit]\n",
    "                x[crit, where, AR].append(n)\n",
    "                y[crit, where, AR].append(dat.mean())"
   ]
  },
  {
   "cell_type": "code",
   "execution_count": 4,
   "metadata": {
    "scrolled": true
   },
   "outputs": [],
   "source": [
    "# Gaussian CDF fit, which will be fit to the user data\n",
    "def cdf_2param(x, mu, sigma):\n",
    "    return 1/2*(1+math.erf((x-mu)/(sigma*np.sqrt(2))))\n",
    "cdf_v = np.vectorize(cdf_2param)\n",
    "\n",
    "# Calculate fits\n",
    "fits_mean = {}\n",
    "for crit in ['any_worse', 'strongly_worse']:\n",
    "    for where in ('nasal', 'temporal'):\n",
    "        for AR in ('monoar', 'binoar'):\n",
    "            t = np.linspace(min(x[crit, where, AR]), max(x[crit, where, AR]), 1000)\n",
    "            fit_params = curve_fit(cdf_v, x[crit, where, AR],\n",
    "                                          y[crit, where, AR], p0=[0.5, 2])[0]\n",
    "            fits_mean[crit, where, AR] = fit_params"
   ]
  },
  {
   "cell_type": "code",
   "execution_count": 5,
   "metadata": {},
   "outputs": [],
   "source": [
    "# Calculate the nonuniformity for a given threshold\n",
    "def f_nonuniformity(P, mu, sigma):\n",
    "    return np.sqrt(2)*sigma*scipy.special.erfinv(2*P-1)+mu\n",
    "\n",
    "target_nonuniformity = lambda crit, where, AR, x, : f_nonuniformity(x, *fits_mean[crit, where, AR])"
   ]
  },
  {
   "cell_type": "code",
   "execution_count": 6,
   "metadata": {},
   "outputs": [],
   "source": [
    "# Load the eyepiece nonuniformities\n",
    "eyepiece_csv = pd.read_csv('eyepiece_nonuniformities_without_eyeroll.csv', header=5)"
   ]
  },
  {
   "cell_type": "code",
   "execution_count": 7,
   "metadata": {},
   "outputs": [],
   "source": [
    "# Add columns with the calculated nonuinformity for the left and right sources\n",
    "for (idx, row) in eyepiece_csv.iterrows():\n",
    "    eyepiece_csv.loc[idx, ('source_max')] = np.max([row[f'source_{loc}'] for loc in\n",
    "                                                   ['center', 'left', 'right']])\n",
    "    eyepiece_csv.loc[idx, ('source_min')] = np.min([row[f'source_{loc}'] for loc in\n",
    "                                                   ['center', 'left', 'right']])\n",
    "\n",
    "eyepiece_csv['nonuniformity_left']  = ((eyepiece_csv['source_max'] - eyepiece_csv['source_left'])/\n",
    "                                       (eyepiece_csv['source_max'] + eyepiece_csv['source_left']))\n",
    "eyepiece_csv['nonuniformity_right'] = ((eyepiece_csv['source_max'] - eyepiece_csv['source_right'])/\n",
    "                                       (eyepiece_csv['source_max'] + eyepiece_csv['source_right']))\n",
    "eyepiece_csv['nonuniformity_horz']  = ((eyepiece_csv['source_max'] - eyepiece_csv['source_min'])/\n",
    "                                       (eyepiece_csv['source_max'] + eyepiece_csv['source_min']))\n",
    "eyepiece_csv['nonuniformity_left'].fillna(0, inplace=True)\n",
    "eyepiece_csv['nonuniformity_right'].fillna(0, inplace=True)\n",
    "eyepiece_csv['nonuniformity_horz'].fillna(0, inplace=True)"
   ]
  },
  {
   "cell_type": "code",
   "execution_count": 8,
   "metadata": {},
   "outputs": [],
   "source": [
    "def rescale_data(eyepiece, data_source=None, scale_data=None):\n",
    "    if data_source is None:\n",
    "        data_source = 'nonuniformity'\n",
    "    if scale_data is None:\n",
    "        scale_data = 5\n",
    "\n",
    "    x_orig = eyepiece[['x']].to_numpy().squeeze()\n",
    "    y_orig = eyepiece[['y']].to_numpy().squeeze()\n",
    "    z_orig = eyepiece[['z']].to_numpy().squeeze()\n",
    "    m_orig = eyepiece[[data_source]].to_numpy().squeeze()\n",
    "\n",
    "    x = np.array(list(sorted(np.unique(x_orig))))\n",
    "    y = np.array(list(sorted(np.unique(y_orig))))\n",
    "    z = np.array(list(sorted(np.unique(z_orig))))\n",
    "\n",
    "    X,Y,Z = np.meshgrid(x, y, z)\n",
    "\n",
    "    M = scipy.interpolate.griddata((x_orig, y_orig, z_orig), m_orig, (X, Y, Z), method='linear')\n",
    "\n",
    "    if scale_data:\n",
    "        M = scipy.ndimage.zoom(M, [scale_data, scale_data, scale_data], output=None, order=3,\n",
    "                               mode='nearest', prefilter=True)\n",
    "        x = np.linspace(min(x), max(x), int(len(x)*scale_data))\n",
    "        y = np.linspace(min(y), max(y), int(len(y)*scale_data))\n",
    "        z = np.linspace(min(z), max(z), int(len(z)*scale_data))\n",
    "        \n",
    "    return [x, y, z, M]\n",
    "\n",
    "# Calculate the smoothed data\n",
    "nonuniformity_l = rescale_data(eyepiece_csv, data_source='nonuniformity_left')\n",
    "nonuniformity_r = rescale_data(eyepiece_csv, data_source='nonuniformity_right')\n",
    "nonuniformity_h = rescale_data(eyepiece_csv, data_source='nonuniformity_horz')"
   ]
  },
  {
   "cell_type": "code",
   "execution_count": 9,
   "metadata": {},
   "outputs": [],
   "source": [
    "# Need to flip arrays left/right to account for IPD mismatch direction\n",
    "nonuniformity_l[3] = np.fliplr(nonuniformity_l[3])\n",
    "nonuniformity_r[3] = np.fliplr(nonuniformity_r[3])\n",
    "nonuniformity_h[3] = np.fliplr(nonuniformity_h[3])"
   ]
  },
  {
   "cell_type": "code",
   "execution_count": 10,
   "metadata": {},
   "outputs": [
    {
     "data": {
      "image/png": "[encoded data removed]",
      "text/plain": [
       "<Figure size 720x237.6 with 4 Axes>"
      ]
     },
     "metadata": {
      "needs_background": "light"
     },
     "output_type": "display_data"
    }
   ],
   "source": [
    "# Plot\n",
    "idx_x = nonuniformity_h[3].shape[0]//2\n",
    "thres_p=0.75\n",
    "    \n",
    "idx_x = int(idx_x)\n",
    "data_h = nonuniformity_h[3][idx_x,:,:].copy().T\n",
    "data_l = nonuniformity_l[3][idx_x,:,:].copy().T\n",
    "data_r = nonuniformity_r[3][idx_x,:,:].copy().T\n",
    "\n",
    "data_diff = data_l-data_r\n",
    "\n",
    "f, axs = plt.subplots(1, 3, figsize=(10, 3.3), dpi=72)\n",
    "spacing_y = np.mean(np.diff(nonuniformity_h[1]))\n",
    "spacing_z = np.mean(np.diff(nonuniformity_h[2]))\n",
    "extent=(min(nonuniformity_h[1])-spacing_y/2, max(nonuniformity_h[1])+spacing_y/2,  # y\n",
    "        min(nonuniformity_h[2])-spacing_z/2, max(nonuniformity_h[2])+spacing_z/2)  # z\n",
    "\n",
    "# -------------------------\n",
    "# Nasal\n",
    "ax = axs[0]\n",
    "img = ax.imshow(data_l, interpolation='nearest', origin='lower', vmin=0, vmax=1, extent=extent, zorder=1,\n",
    "                cmap=plt.get_cmap('viridis_r'))\n",
    "CS = ax.contour(data_l, [target_nonuniformity('any_worse', 'nasal', 'binoar', thres_p),],\n",
    "                extent=extent, colors=['w'], linestyles='dashed', zorder=3, linewidths=[3,])\n",
    "ax.set_title('Nasal source')\n",
    "ax.set_ylabel('Relative eye relief (mm)')\n",
    "ax.set_yticks(45.2 + np.linspace(-10, 10, 5))\n",
    "ax.set_yticklabels(np.linspace(-10, 10, 5))\n",
    "ax.set_xticks(np.linspace(min(nonuniformity_h[1]), max(nonuniformity_h[1]), 5))\n",
    "ax.set_xticklabels([f'{i:.0f}' for i in np.linspace(min(nonuniformity_h[1]), max(nonuniformity_h[1]), 5)*2])\n",
    "\n",
    "# -------------------------\n",
    "# Temporal\n",
    "ax = axs[1]\n",
    "img = ax.imshow(data_r, interpolation='nearest', origin='lower', vmin=0, vmax=1, extent=extent, zorder=1,\n",
    "                cmap=plt.get_cmap('viridis_r'))\n",
    "CS = ax.contour(data_r, [target_nonuniformity('any_worse', 'temporal', 'binoar', thres_p),],\n",
    "                extent=extent, colors=['w'], zorder=3, linewidths=[3,])\n",
    "ax.set_title('Temporal Source')\n",
    "ax.set_yticks([])\n",
    "ax.set_xticks(np.linspace(min(nonuniformity_h[1]), max(nonuniformity_h[1]), 5))\n",
    "ax.set_xticklabels([f'{i:.0f}' for i in np.linspace(min(nonuniformity_h[1]), max(nonuniformity_h[1]), 5)*2])\n",
    "ax.set_xlabel('IPD mismatch (mm)')\n",
    "\n",
    "# -------------------------\n",
    "# Both\n",
    "ax = axs[2]\n",
    "img = ax.imshow(data_h, interpolation='nearest', origin='lower', vmin=0, vmax=1, extent=extent, zorder=1,\n",
    "                cmap=plt.get_cmap('viridis_r'))\n",
    "CS = ax.contour(data_l, [target_nonuniformity('any_worse', 'nasal', 'binoar', thres_p),],\n",
    "                extent=extent, colors=['w'], linestyles='dashed', zorder=3, linewidths=[3,])\n",
    "CS = ax.contour(data_r, [target_nonuniformity('any_worse', 'temporal', 'binoar', thres_p),],\n",
    "                extent=extent, colors=['w'], zorder=3, linewidths=[3,])\n",
    "ax.set_title('Nonuniformity')\n",
    "ax.set_yticks([])\n",
    "ax.set_xticks(np.linspace(min(nonuniformity_h[1]), max(nonuniformity_h[1]), 5))\n",
    "ax.set_xticklabels([f'{i:.0f}' for i in np.linspace(min(nonuniformity_h[1]), max(nonuniformity_h[1]), 5)*2])\n",
    "\n",
    "divider = make_axes_locatable(ax)\n",
    "cax = divider.append_axes(\"right\", size=\"5%\", pad=0.05)\n",
    "plt.colorbar(img, cax=cax)\n",
    "\n",
    "plt.tight_layout()\n",
    "plt.show()"
   ]
  },
  {
   "cell_type": "code",
   "execution_count": null,
   "metadata": {},
   "outputs": [],
   "source": []
  }
 ],
 "metadata": {
  "kernelspec": {
   "display_name": "Python 3",
   "language": "python",
   "name": "python3"
  },
  "language_info": {
   "codemirror_mode": {
    "name": "ipython",
    "version": 3
   },
   "file_extension": ".py",
   "mimetype": "text/x-python",
   "name": "python",
   "nbconvert_exporter": "python",
   "pygments_lexer": "ipython3",
   "version": "3.6.8"
  },
  "widgets": {
   "application/vnd.jupyter.widget-state+json": {
    "state": {
     "217dde01571c48099d8c24850f621c39": {
      "model_module": "@jupyter-widgets/base",
      "model_module_version": "1.2.0",
      "model_name": "LayoutModel",
      "state": {}
     },
     "22c496e3b50c402db7aa5d6cecddc8f6": {
      "model_module": "@jupyter-widgets/controls",
      "model_module_version": "1.5.0",
      "model_name": "VBoxModel",
      "state": {
       "children": [
        "IPY_MODEL_a1efd7ced1ef4cdbab954280bfc7c9a0",
        "IPY_MODEL_777315ffb3af466587081895793b3e96",
        "IPY_MODEL_84371e270530407680535f924387be33"
       ],
       "layout": "IPY_MODEL_e66dd9a6c30347048fcaf22728df4d49"
      }
     },
     "22f169e8a8c84305982d27e949efec05": {
      "model_module": "@jupyter-widgets/controls",
      "model_module_version": "1.5.0",
      "model_name": "ButtonStyleModel",
      "state": {}
     },
     "2d433cb866e046ddb24cd1aa594e5560": {
      "model_module": "jupyter-threejs",
      "model_module_version": "^2.1.0",
      "model_name": "SceneModel",
      "state": {
       "_view_module": null,
       "_view_module_version": "",
       "background": null
      }
     },
     "2d84f3c4f6a643f68282c8c7b207f592": {
      "buffers": [
       {
        "data": "m5qaPrCvLz+VlJQ+AACAPw==",
        "encoding": "base64",
        "path": [
         "color",
         0,
         "data"
        ]
       },
       {
        "data": "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",
        "encoding": "base64",
        "path": [
         "triangles",
         0,
         "data"
        ]
       },
       {
        "data": "4Pd9PwAAgD8AAIA/AACAPwAAgD+bbHI/AACAPwAAgD8AAIA/tFF/PwAAgD8AAIA/AACAPwAAgD8AAIA/kPvuPwAAAEAAAABAAAAAQAAAAEAAAABApmHnPwAAAEAAAABACQmJPwAAAEA18dQ/AAAAQDFB9z8AAABAovK0PwAAAEAEp/I/AAAAQKlUqj8AAABAUp3PP8gU9j8AAABAlOeAPwnA5z8AAABAAAAAQAAAAEAAAABAiPX2PwAAAEAAAABAAAAAQAAAAEChDipAAABAQAAAQECJESNAAABAQAAAQEBQCTJAAABAQFZwGUAAAEBAAABAQJGRMUAAAEBAchwzQAAAQEAAAEBAAAA0QAAAQEA6BS9AAABAQOpNL0AAAEBAuBgyQAAAQEA9zzNAAABAQG2xEkAAAEBAAABAQAAAQECDHzhAAABAQHMiHUAAAEBAAABAQAAAQEAAAIBAAACAQLdtW0AAAIBAAACAQAAAgEAAAIBAXiBTQAAAgEAAAIBACWpqQAAAgEAAAIBAp89+QAAAgEC3bWtAAACAQOLffUDbJ2pAAACAQAAAgEAAAIBAAACAQAAAgEA/IU5AAACAQAAAgEAAAIBANJxUQAAAgEAAAIBAbM14QAAAgEAAAIBAAACAQAAAgEAAAIBAAACAQHijiUAAAKBAAACgQAAAoEAAAKBAAACgQAAAoEAAAKBAAACgQAAAoEAAAKBAAACgQAAAoEAAAKBAAACgQAAAoEBzdotATD2DQAAAoEAAAKBAAACgQAAAoEAAAKBAdFCHQAAAoEAAAKBAAACgQAAAoEAAAKBAAACgQAAAoEAAAKBAAACgQML8jkAAAKBAAACgQKO+s0AAAMBAAADAQAAAwEAAAMBAAADAQAAAwEAAAMBAAADAQAAAwEAAAMBAtta6QAAAwEBPOb5AUyu1QAAAwEAAAMBAAACgQAAAwEAAAMBAAADAQAAAwEAAAMBAAADAQAAAwEAAAMBAAADAQDwlqEAAAMBAAADAQAAAwEAAAMBAAADAQAAAwEAAAOBAAADgQAd10EAAAOBAAADgQAAA4EAAAOBA3ITZQAAA4EBjOstAAADgQAAA4EAAAOBA7LnKQAAA4EABacFAAADgQGUsykAAAOBA56/AQAAA4EAAAOBArEDYQAAA4EAAAOBAAADgQAAA4EBMhtBAAADgQAAA4ECpVMpAAADgQDMz5EAAAABBAAAAQdMz8EAAAABBAAAAQYIW6EAAAABBAAAAQeBb9kAAAABBVVXmQAAAAEEAAABB3bflQAAAAEH2k+VAAAAAQQxs50AAAABBZfjmQAAAAEHtHuZAAAAAQaKJ5kAAAABBhiz4QAAAAEEAAABBAAAAQZ/f70BvgAJBAw0DQSL+CEEAABBBAAAQQQAAEEGeHQZBZM8AQZqZCUEAABBBNYwHQQAAEEGRxAFBAAAQQQ+sBUFkzwBB3RQDQWgvEUFoLxFB",
        "encoding": "base64",
        "path": [
         "x",
         0,
         "data"
        ]
       },
       {
        "data": "AACAQKKxfkAAAIBAAACAQOWehkAAAMBAtVKrQAAAwEAAAMBAAADgQD6/30AAAOBAweDCQAAA4EDKFeBAAAAAQJD77j8AAABAAAAAQBCVLkAAAEBAAABAQIR8IUAAAEBAAACAQAAAgEAAAIBAl29pQAAAgEAAAIBAAACgQAAAoEAAAKBAAACgQAAAwEAAAMBAAADAQAAAwEAAAMBAAADgQAAA4EAAAOBAAADgQEyG0EAAAABBAAAAQaon80Axs+9AAAAAQU8hAUEAAABAAAAAQDxM6T8AAABAAAAAQAAAQEAAAEBAVlU1QAAAQEAdLwxAAABAQAAAgEAAAIBAAACAQD3PU0AAAIBAAACgQAAAoEAAAKBAAACgQAAAwEAAAMBAAADAQAAAwEAAAOBAAADgQAAA4EAAAOBAMzPZQG7b9kAAAABBAAAAQQAAAEEAAABBIkj5QMqZA0HIOM0/AAAAQAAAAED+TPg/AAAAQHNzM0AAAEBAAABAQObaMUAAAEBAAACAQDMzaUAAAIBAAACAQNmrfkAAAKBAAACgQAAAoEAAAMBAAADAQAAAwEDy8LBAlnvKQAAA4EAAAOBAAADgQKIo6kAAAABBAAAAQQAAAEENzudAAAAQQZqZCEEAABBBAAAQQaWJB0HMigFBksAQQQAAgD+vn20/AACAPwAAgD8AALo/AAAAQCtktz8l3fE/AAAAQBayMEAAAEBAvektQAAAQEAK62lAAACAQLwzekAAAKBAAACgQLyigUBzt4lAjUi2QAAAwEAAAMBAAADAQAAAwEAON8xAAADgQAAA4EBXEMNAFjbnQAAAAEEAAABBGIPqQAAAEEFp9wpBAAACQQAAgD8AAABA553FP3JL9z8AAABAaCAqQAAAQEARETFAAABAQKesaUAAAIBAAACAQAAAgEAAAKBAAACgQAAAoECO44hAAADAQAAAwEC2EctAAADgQAAA4EBBvcBA7JLqQAAAAEEAAABBpGjoQAAAEEH2KAZBAAAQQQAAEEHHhgdBZz0BQRpBEkFOnuQ/AAAAQAAAAEAAAABAo4seQAAAQEDCow9AAABAQAAAQEAAAIBAAACAQA8PT0AAAIBAAACgQAAAoEAAAKBAAACgQAAAwEAAAMBAAADAQAAAwEAAAOBAAADgQAAA4EDNzNZAVVXmQAAAAEEAAABBAAAAQfN29kAAABBBCWEDQQAAAECL/Os/AAAAQAAAAEAAAABA0fkqQAAAQEA+5iFAAABAQAAAQEAAAEBAAACAQAAAgEDaS2hAAACAQAAAgEAAAKBAAACgQAAAoEAAAKBAAADAQAAAwEAAAMBAAADAQAAA4EAAAOBAAADgQAAA4EAPD89Af/PuQAAAAEEAAABAAABAQAAAgEBu93dAAACAQAAAgEAAAIBAAACAQAAAoEAAAKBAAACgQAAAoEAAAKBApfGxQAAAwEAAAMBAAADgQAAAgEAAAKBA",
        "encoding": "base64",
        "path": [
         "y",
         0,
         "data"
        ]
       },
       {
        "data": "AABAQAAAQECO2j5A+yFBQAAAQEAAAEBAAABAQHHTNkDSPkhAAAAAQAAAAEAqUv8/AABAQL1MAEAAAABAAABAQAAAQEBaWipAZKpXQAAAQEA1a0xAAACAQAAAgEDNcJRAAABAQE9nVEAAAIBAAACgQAAAoEDqLKZAAACAQCVJVkAAAKBAp6ypQAAAQEA2HlVAAACAQAAAoECk86ZAAAAAQAAAgEAj5lRAJPGXQAAAoEDLsixAAABAQAAAQEAAAIBAe0NPQAAAQEAAAEBAGlJRQAAAgEAAAIBASSyaQJ6NOkAAAEBAAABAQAAAoEAAAKBAxFq7QAAAQECnGDVAAADAQAAAwEAI88RAAABAQNFFN0AAAMBAYVzGQAAAQEAlSTJAAADAQCUyxUAAAEBAiAw3QAAAoECambxAAADAQAAAQEAAAEBAekRCQAAAgEANP5tAAACgQAAAgEAAAIBAEwFWQAAAoEAAAKBAHtelQAAAQEDvlzVAAADAQAAAwECnrMVAAAAAQAAAAEBTuJ4/AADgQAAA4EAAAABA2DumPwAA4EAAAABArBioP0tz3kAAAOBAAAAAQC2oNkAAAMBAaHDFQAAAQEDWMkxAAACgQMKfqUAAAMBAAABAQAAAQEAT3jhA/shJQAAAgEAAAKBAAABAQAAAQEAAAEBAVVU1QJvaVEAAAEBAq7VTQAAAgEAAAKBArNCpQAAAQEAXfjVAAADAQGBhxkAAAABAQx2UPwAA4EAAAAAAAACAPwAAgD8AAAAAAAAAAAAAgD8AAIA/AADgQAAAgD8AAABA5y44QKK8xkAAAOBAAABAQAIeUEAvqaxAAADAQAAAQEAAAIBAAACgQAAAQEBnEk5AAACAQAAAoEDmnqZAAABAQH+RM0AAAMBAwI3FQAAAAEDZiZ0/AADgQD4G30AAAIA/AAAAAFVVlT8AAOBAAACAP2fdoD8AAABAjd8uQMhCxkAAAOBAAABAQIBFVECIm6dAAADAQAAAQEAAAEBA3yotQMBkWUAAAIBAAACgQAAAQEAAAIBAfvhFQAAAoEA+mplAAABAQNC0NUAAAKBAAADAQGkNvUAAAABAa6U2QAAAwECWxMRAAAAAQDswN0AAAOBA47DFQAAAAEBf8TVAAADgQN/ZxEB1UDdAAADAQPB0u0AAAMBAAABAQEi9UUAAAKBAnruYQAAAoEAAAEBAAACAQAAAQEAAAEBAHw80QAAAgEDMUVpAAABAQAAAQEAAAIBA+MhRQAAAoECEG5dAAABAQMlYVEAAAKBAAADAQHuWpEAAAEBADpJWQAAAwEAX/6hAAABAQMYmVEAAAMBAH46kQAAAQEAOulJAAACgQI2RmUAAAKBAAACAQAAAgEAAAEBAAACAQAAAQEAAAEBA2Os1QD2+S0AAAIBAAACgQAAAQEBd1zVAAACAQGmsT0AAAKBAAABAQAAAgEAAAKBAAACAQAAAQEAAAEBA",
        "encoding": "base64",
        "path": [
         "z",
         0,
         "data"
        ]
       }
      ],
      "model_module": "ipyvolume",
      "model_module_version": "~0.5.2",
      "model_name": "MeshModel",
      "state": {
       "color": [
        {
         "data": {},
         "dtype": "float32",
         "shape": [
          4
         ]
        }
       ],
       "line_material": "IPY_MODEL_791eeb9468ea4c9ebd1e02895f8ae6bf",
       "lines": null,
       "material": "IPY_MODEL_edc32380fae44fc9b063f2302b99f63a",
       "texture": null,
       "triangles": [
        {
         "data": {},
         "dtype": "uint32",
         "shape": [
          516,
          3
         ]
        }
       ],
       "u": null,
       "v": null,
       "x": [
        {
         "data": {},
         "dtype": "float32",
         "shape": [
          276
         ]
        }
       ],
       "y": [
        {
         "data": {},
         "dtype": "float32",
         "shape": [
          276
         ]
        }
       ],
       "z": [
        {
         "data": {},
         "dtype": "float32",
         "shape": [
          276
         ]
        }
       ]
      }
     },
     "354307c7956543448c9fb50530d9b127": {
      "model_module": "@jupyter-widgets/controls",
      "model_module_version": "1.5.0",
      "model_name": "ButtonStyleModel",
      "state": {}
     },
     "37abfdab34b546ee82994877d4a9ce2c": {
      "model_module": "@jupyter-widgets/controls",
      "model_module_version": "1.5.0",
      "model_name": "FloatSliderModel",
      "state": {
       "layout": "IPY_MODEL_b6c88f941cc944f293967806de387583",
       "max": 1,
       "min": 0.025139,
       "step": 0.0038994439999999997,
       "style": "IPY_MODEL_bff1a2f468474c02b9db98be63397b5b",
       "value": 0.75
      }
     },
     "53a4ceefffa34b7d9e7f9d472c71beb7": {
      "model_module": "@jupyter-widgets/controls",
      "model_module_version": "1.5.0",
      "model_name": "ButtonModel",
      "state": {
       "description": "update",
       "layout": "IPY_MODEL_217dde01571c48099d8c24850f621c39",
       "style": "IPY_MODEL_354307c7956543448c9fb50530d9b127"
      }
     },
     "6208fa92a88c47afb2e76dff68110c79": {
      "model_module": "@jupyter-widgets/controls",
      "model_module_version": "1.5.0",
      "model_name": "SliderStyleModel",
      "state": {
       "description_width": ""
      }
     },
     "62f7ad464985454ebff22e18bb88099a": {
      "model_module": "jupyter-threejs",
      "model_module_version": "^2.1.0",
      "model_name": "ShaderMaterialModel",
      "state": {
       "_view_module": null,
       "_view_module_version": "",
       "side": "DoubleSide"
      }
     },
     "709e9510c02c4925981c7c50c2b561ea": {
      "model_module": "jupyter-threejs",
      "model_module_version": "^2.1.0",
      "model_name": "PerspectiveCameraModel",
      "state": {
       "_view_module": null,
       "_view_module_version": "",
       "aspect": 0.8,
       "fov": 46,
       "matrix": [
        1,
        0,
        0,
        0,
        0,
        1,
        -6.123233995736766e-17,
        0,
        0,
        6.123233995736766e-17,
        1,
        0,
        0,
        1.2246467991473532e-16,
        2,
        1
       ],
       "matrixWorld": [
        1,
        0,
        0,
        0,
        0,
        1,
        -6.123233995736766e-17,
        0,
        0,
        6.123233995736766e-17,
        1,
        0,
        0,
        1.2246467991473532e-16,
        2,
        1
       ],
       "matrixWorldInverse": [
        1,
        0,
        0,
        0,
        0,
        1,
        6.123233995736766e-17,
        0,
        0,
        -6.123233995736766e-17,
        1,
        0,
        0,
        0,
        -2,
        1
       ],
       "matrixWorldNeedsUpdate": true,
       "position": [
        0,
        1.2246467991473532e-16,
        2
       ],
       "projectionMatrix": [
        2.9448154572796907,
        0,
        0,
        0,
        0,
        2.3558523658237527,
        0,
        0,
        0,
        0,
        -1.00010000500025,
        -1,
        0,
        0,
        -0.200010000500025,
        0
       ],
       "quaternion": [
        -3.061616997868383e-17,
        0,
        0,
        1
       ],
       "rotation": [
        -6.123233995736766e-17,
        0,
        0,
        "XYZ"
       ],
       "up": [
        0,
        1,
        -6.123233995736766e-17
       ]
      }
     },
     "75eaa37e28dd4010b28fefb533f4a666": {
      "buffers": [
       {
        "data": "5eRkP9HQ0D3h4OA9AACAPw==",
        "encoding": "base64",
        "path": [
         "color",
         0,
         "data"
        ]
       },
       {
        "data": "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",
        "encoding": "base64",
        "path": [
         "triangles",
         0,
         "data"
        ]
       },
       {
        "data": "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",
        "encoding": "base64",
        "path": [
         "x",
         0,
         "data"
        ]
       },
       {
        "data": "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",
        "encoding": "base64",
        "path": [
         "y",
         0,
         "data"
        ]
       },
       {
        "data": "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",
        "encoding": "base64",
        "path": [
         "z",
         0,
         "data"
        ]
       }
      ],
      "model_module": "ipyvolume",
      "model_module_version": "~0.5.2",
      "model_name": "MeshModel",
      "state": {
       "color": [
        {
         "data": {},
         "dtype": "float32",
         "shape": [
          4
         ]
        }
       ],
       "line_material": "IPY_MODEL_d6318a7384184d99acf47b8ef3467407",
       "lines": null,
       "material": "IPY_MODEL_62f7ad464985454ebff22e18bb88099a",
       "texture": null,
       "triangles": [
        {
         "data": {},
         "dtype": "uint32",
         "shape": [
          726,
          3
         ]
        }
       ],
       "u": null,
       "v": null,
       "x": [
        {
         "data": {},
         "dtype": "float32",
         "shape": [
          405
         ]
        }
       ],
       "y": [
        {
         "data": {},
         "dtype": "float32",
         "shape": [
          405
         ]
        }
       ],
       "z": [
        {
         "data": {},
         "dtype": "float32",
         "shape": [
          405
         ]
        }
       ]
      }
     },
     "777315ffb3af466587081895793b3e96": {
      "model_module": "@jupyter-widgets/controls",
      "model_module_version": "1.5.0",
      "model_name": "HBoxModel",
      "state": {
       "children": [
        "IPY_MODEL_a24a5497f7814f9c98932d61f9f1aac5",
        "IPY_MODEL_53a4ceefffa34b7d9e7f9d472c71beb7"
       ],
       "layout": "IPY_MODEL_a5bfc14d7dba42f7ac1be175e5b9b89c"
      }
     },
     "791eeb9468ea4c9ebd1e02895f8ae6bf": {
      "model_module": "jupyter-threejs",
      "model_module_version": "^2.1.0",
      "model_name": "ShaderMaterialModel",
      "state": {
       "_view_module": null,
       "_view_module_version": ""
      }
     },
     "84371e270530407680535f924387be33": {
      "model_module": "@jupyter-widgets/controls",
      "model_module_version": "1.5.0",
      "model_name": "HBoxModel",
      "state": {
       "children": [
        "IPY_MODEL_37abfdab34b546ee82994877d4a9ce2c",
        "IPY_MODEL_9c0c303b63834feda7acb94f6f99e490"
       ],
       "layout": "IPY_MODEL_ea8427a0a4364ada8526dbd2425c3d8b"
      }
     },
     "98b726cac8934c5994c80a903b12f153": {
      "model_module": "@jupyter-widgets/base",
      "model_module_version": "1.2.0",
      "model_name": "LayoutModel",
      "state": {}
     },
     "9c0c303b63834feda7acb94f6f99e490": {
      "model_module": "@jupyter-widgets/controls",
      "model_module_version": "1.5.0",
      "model_name": "ButtonModel",
      "state": {
       "description": "update",
       "layout": "IPY_MODEL_d3c3bcfb81834e4dbdaf00d326063e50",
       "style": "IPY_MODEL_22f169e8a8c84305982d27e949efec05"
      }
     },
     "a1efd7ced1ef4cdbab954280bfc7c9a0": {
      "model_module": "ipyvolume",
      "model_module_version": "~0.5.2",
      "model_name": "FigureModel",
      "state": {
       "camera": "IPY_MODEL_709e9510c02c4925981c7c50c2b561ea",
       "capture_fps": null,
       "height": 500,
       "layout": "IPY_MODEL_d8c7d7beac2d4755b6b5fcded3916034",
       "matrix_projection": [
        2.9448154572796907,
        0,
        0,
        0,
        0,
        2.3558523658237527,
        0,
        0,
        0,
        0,
        -1.00010000500025,
        -1,
        0,
        0,
        -0.200010000500025,
        0
       ],
       "matrix_world": [
        0.1,
        0,
        0,
        0,
        0,
        0.1,
        6.123233995736766e-18,
        0,
        0,
        -8.747477136766808e-18,
        0.14285714285714285,
        0,
        -0.5,
        -0.49999999999999994,
        -2.5,
        1
       ],
       "meshes": [
        "IPY_MODEL_2d84f3c4f6a643f68282c8c7b207f592",
        "IPY_MODEL_75eaa37e28dd4010b28fefb533f4a666"
       ],
       "scatters": [],
       "scene": "IPY_MODEL_2d433cb866e046ddb24cd1aa594e5560",
       "volumes": [],
       "width": 400,
       "xlim": [
        0,
        10
       ],
       "ylim": [
        0,
        10
       ],
       "zlim": [
        0,
        7
       ]
      }
     },
     "a24a5497f7814f9c98932d61f9f1aac5": {
      "model_module": "@jupyter-widgets/controls",
      "model_module_version": "1.5.0",
      "model_name": "FloatSliderModel",
      "state": {
       "layout": "IPY_MODEL_98b726cac8934c5994c80a903b12f153",
       "max": 1,
       "min": 0.025139,
       "step": 0.0038994439999999997,
       "style": "IPY_MODEL_6208fa92a88c47afb2e76dff68110c79",
       "value": 0.25
      }
     },
     "a5bfc14d7dba42f7ac1be175e5b9b89c": {
      "model_module": "@jupyter-widgets/base",
      "model_module_version": "1.2.0",
      "model_name": "LayoutModel",
      "state": {}
     },
     "b6c88f941cc944f293967806de387583": {
      "model_module": "@jupyter-widgets/base",
      "model_module_version": "1.2.0",
      "model_name": "LayoutModel",
      "state": {}
     },
     "bff1a2f468474c02b9db98be63397b5b": {
      "model_module": "@jupyter-widgets/controls",
      "model_module_version": "1.5.0",
      "model_name": "SliderStyleModel",
      "state": {
       "description_width": ""
      }
     },
     "d3c3bcfb81834e4dbdaf00d326063e50": {
      "model_module": "@jupyter-widgets/base",
      "model_module_version": "1.2.0",
      "model_name": "LayoutModel",
      "state": {}
     },
     "d6318a7384184d99acf47b8ef3467407": {
      "model_module": "jupyter-threejs",
      "model_module_version": "^2.1.0",
      "model_name": "ShaderMaterialModel",
      "state": {
       "_view_module": null,
       "_view_module_version": ""
      }
     },
     "d8c7d7beac2d4755b6b5fcded3916034": {
      "model_module": "@jupyter-widgets/base",
      "model_module_version": "1.2.0",
      "model_name": "LayoutModel",
      "state": {}
     },
     "e66dd9a6c30347048fcaf22728df4d49": {
      "model_module": "@jupyter-widgets/base",
      "model_module_version": "1.2.0",
      "model_name": "LayoutModel",
      "state": {}
     },
     "ea8427a0a4364ada8526dbd2425c3d8b": {
      "model_module": "@jupyter-widgets/base",
      "model_module_version": "1.2.0",
      "model_name": "LayoutModel",
      "state": {}
     },
     "edc32380fae44fc9b063f2302b99f63a": {
      "model_module": "jupyter-threejs",
      "model_module_version": "^2.1.0",
      "model_name": "ShaderMaterialModel",
      "state": {
       "_view_module": null,
       "_view_module_version": "",
       "side": "DoubleSide"
      }
     }
    },
    "version_major": 2,
    "version_minor": 0
   }
  }
 },
 "nbformat": 4,
 "nbformat_minor": 2
}
